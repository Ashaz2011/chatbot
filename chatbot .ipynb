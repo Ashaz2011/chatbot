{
 "cells": [
  {
   "cell_type": "code",
   "execution_count": 5,
   "id": "914706ee",
   "metadata": {},
   "outputs": [
    {
     "name": "stdout",
     "output_type": "stream",
     "text": [
      "6 is present\n"
     ]
    }
   ],
   "source": [
    "list_of_numbers=[1,2,3,4,5,6,7,8,9,0,10]\n",
    "if 6 in list_of_numbers:\n",
    "    print('6 is present')\n",
    "else:\n",
    "    print(\"6 isn't present\")"
   ]
  },
  {
   "cell_type": "code",
   "execution_count": 8,
   "id": "db1da531",
   "metadata": {},
   "outputs": [
    {
     "name": "stdout",
     "output_type": "stream",
     "text": [
      "go to setting and change color\n"
     ]
    }
   ],
   "source": [
    "#problem color not change\n",
    "problem=\"my game pc'c color is not altered\"\n",
    "if \"color\" in problem:\n",
    "    print(\"go to setting and change color\")\n",
    "else:\n",
    "    print(\"contact qwertyopasghj@gmail.com \")"
   ]
  },
  {
   "cell_type": "code",
   "execution_count": 1,
   "id": "85f142ab",
   "metadata": {},
   "outputs": [
    {
     "name": "stdout",
     "output_type": "stream",
     "text": [
      "What is your name? Ashaz\n",
      "Hello Ashaz\n",
      "what is your age 1\n",
      "please conatact ashazosama@gmail.com \n",
      "my age is 1 day \n",
      "how are you feeling today sad\n",
      "how can i cheer you up? \n",
      "thank you for your time hope to see you again :-)\n"
     ]
    }
   ],
   "source": [
    "#chatbot\n",
    "#name, age, feeling\n",
    "#age: child : 7-12 , teenager: 13-19, adult: 20-50 , old: >50  #(if , elif, else)\n",
    "#feeling: sad, happy , tired , sleepy, bored    if, elif, else\n",
    "# name: Hello Ashaz \n",
    "# age: suppose=chatbot age=1 day , age>=7 you are too big for me , age>16 ,  great! my age is 1 day \n",
    "\n",
    "name=input(\"What is your name? \")\n",
    "print(\"Hello \"+ name)  #print(\"Hello\",name)\n",
    "age=int(input(\"what is your age \"))\n",
    "if age>6 and age<=8:\n",
    "    print(\"you are to small for me \")\n",
    "elif age>=10 and age<=12:\n",
    "    print(\"Nice good to have u here \")\n",
    "elif age>=13 and age <=19:\n",
    "    print(\"you are a teenager great to meet you \")\n",
    "elif age<=20 and age>=80:\n",
    "    print(\"you are too old for me I am only for kids 6-19 \")\n",
    "else:\n",
    "    print(\"please conatact ashazosama@gmail.com \")\n",
    "print(\"my age is 1 day \")\n",
    "feeling=input(\"how are you feeling today \")\n",
    "if \"sad\" in feeling:\n",
    "    print(\"how can i cheer you up? \")\n",
    "elif \"happy\" in feeling:\n",
    "    print(\"great to hear that \")\n",
    "elif \"angry\" in feeling:\n",
    "    print(\"go wash your face with colde water, and drink some cold water \")\n",
    "else:\n",
    "    print(\"oh! im feeling the same \")\n",
    "print(\"thank you for your time hope to see you again :-)\")"
   ]
  },
  {
   "cell_type": "code",
   "execution_count": null,
   "id": "3dc8e6bd",
   "metadata": {},
   "outputs": [],
   "source": []
  },
  {
   "cell_type": "code",
   "execution_count": null,
   "id": "00721618",
   "metadata": {},
   "outputs": [],
   "source": []
  },
  {
   "cell_type": "code",
   "execution_count": null,
   "id": "550010fc",
   "metadata": {},
   "outputs": [],
   "source": []
  }
 ],
 "metadata": {
  "kernelspec": {
   "display_name": "Python 3 (ipykernel)",
   "language": "python",
   "name": "python3"
  },
  "language_info": {
   "codemirror_mode": {
    "name": "ipython",
    "version": 3
   },
   "file_extension": ".py",
   "mimetype": "text/x-python",
   "name": "python",
   "nbconvert_exporter": "python",
   "pygments_lexer": "ipython3",
   "version": "3.8.9"
  }
 },
 "nbformat": 4,
 "nbformat_minor": 5
}
