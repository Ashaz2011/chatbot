{
 "cells": [
  {
   "cell_type": "code",
   "execution_count": 5,
   "id": "00a6ba8d",
   "metadata": {},
   "outputs": [
    {
     "name": "stdout",
     "output_type": "stream",
     "text": [
      "you have failed the mission\n"
     ]
    }
   ],
   "source": [
    "#apple or banana\n",
    "fruit=\"orange\"\n",
    "if fruit=='banana' or fruit=='apple':\n",
    "    print('you have completed the mission')\n",
    "else:\n",
    "    print('you have failed the mission')"
   ]
  },
  {
   "cell_type": "code",
   "execution_count": 21,
   "id": "9b2ecb95",
   "metadata": {},
   "outputs": [
    {
     "name": "stdout",
     "output_type": "stream",
     "text": [
      "you have completed the mission\n"
     ]
    }
   ],
   "source": [
    "#apple and banana\n",
    "fruit1=\"banana\"\n",
    "fruit2=\"apple\"\n",
    "if fruit1=='banana' and fruit2=='apple':\n",
    "    print('you have completed the mission')\n",
    "else:\n",
    "    print('you have failed the mission')"
   ]
  },
  {
   "cell_type": "code",
   "execution_count": 24,
   "id": "67b20297",
   "metadata": {},
   "outputs": [
    {
     "name": "stdout",
     "output_type": "stream",
     "text": [
      "tell me the fruit:banana\n",
      "no this is the wrong fruit\n"
     ]
    }
   ],
   "source": [
    "#input function \n",
    "#user input\n",
    "#apple\n",
    "fruit=input('tell me the fruit:')\n",
    "if fruit=='apple':\n",
    "    print('ok i will bring apple with me ')\n",
    "else:\n",
    "    print('no this is the wrong fruit')"
   ]
  },
  {
   "cell_type": "code",
   "execution_count": 28,
   "id": "65463239",
   "metadata": {},
   "outputs": [
    {
     "name": "stdout",
     "output_type": "stream",
     "text": [
      "age requierd to acces fifa mobile:D:29\n",
      "welcome to fifa mobile start by playing a match\n"
     ]
    }
   ],
   "source": [
    "age=int(input('age requierd to acces fifa mobile:D:'))\n",
    "if age>=10 and age<=30:\n",
    "    print('welcome to fifa mobile start by playing a match')\n",
    "else:\n",
    "    print('sorry restricted age level')"
   ]
  },
  {
   "cell_type": "code",
   "execution_count": 2,
   "id": "f23c4f3a",
   "metadata": {},
   "outputs": [
    {
     "name": "stdout",
     "output_type": "stream",
     "text": [
      "enter number 1:10\n",
      "enter number 2:5\n",
      "enter operator:/\n",
      "your answer is 2.0\n"
     ]
    }
   ],
   "source": [
    "#calculator\n",
    "num1=int(input('enter number 1:'))\n",
    "num2=int(input('enter number 2:'))\n",
    "operator=input('enter operator:')\n",
    "if operator=='+':\n",
    "    print('your answer is',num1+num2)\n",
    "elif operator=='-':\n",
    "    print('your answer is',num1-num2)\n",
    "elif operator=='*':\n",
    "    print('your answer is',num1*num2)\n",
    "elif operator=='/':\n",
    "    print('your answer is',num1/num2)\n",
    "elif operator=='**':\n",
    "    print('your answer is',num1**num2)\n",
    "elif operator=='%':\n",
    "    print('your answer is',num1%num2)\n",
    "else:\n",
    "    print('invalid operator please check again')"
   ]
  },
  {
   "cell_type": "code",
   "execution_count": null,
   "id": "70084c91",
   "metadata": {},
   "outputs": [],
   "source": []
  },
  {
   "cell_type": "code",
   "execution_count": null,
   "id": "a4ca188a",
   "metadata": {},
   "outputs": [],
   "source": []
  }
 ],
 "metadata": {
  "kernelspec": {
   "display_name": "Python 3 (ipykernel)",
   "language": "python",
   "name": "python3"
  },
  "language_info": {
   "codemirror_mode": {
    "name": "ipython",
    "version": 3
   },
   "file_extension": ".py",
   "mimetype": "text/x-python",
   "name": "python",
   "nbconvert_exporter": "python",
   "pygments_lexer": "ipython3",
   "version": "3.8.9"
  }
 },
 "nbformat": 4,
 "nbformat_minor": 5
}
